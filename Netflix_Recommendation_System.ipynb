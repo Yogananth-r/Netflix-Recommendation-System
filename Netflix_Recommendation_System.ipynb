{
  "nbformat": 4,
  "nbformat_minor": 0,
  "metadata": {
    "colab": {
      "name": "Netflix Recommendation System.ipynb",
      "provenance": [],
      "collapsed_sections": [],
      "authorship_tag": "ABX9TyNeIocYF9b/X1+wH6gb/sMy",
      "include_colab_link": true
    },
    "kernelspec": {
      "name": "python3",
      "display_name": "Python 3"
    },
    "language_info": {
      "name": "python"
    }
  },
  "cells": [
    {
      "cell_type": "markdown",
      "metadata": {
        "id": "view-in-github",
        "colab_type": "text"
      },
      "source": [
        "<a href=\"https://colab.research.google.com/github/Yogananth-r/Netflix-Recommendation-System/blob/main/Netflix_Recommendation_System.ipynb\" target=\"_parent\"><img src=\"https://colab.research.google.com/assets/colab-badge.svg\" alt=\"Open In Colab\"/></a>"
      ]
    },
    {
      "cell_type": "code",
      "execution_count": null,
      "metadata": {
        "id": "7-JR7WQ5O70X",
        "colab": {
          "base_uri": "https://localhost:8080/"
        },
        "outputId": "4c087645-6e98-46f0-b045-5b0b970e0272"
      },
      "outputs": [
        {
          "output_type": "stream",
          "name": "stdout",
          "text": [
            "Mounted at /gdrive\n",
            "/gdrive\n"
          ]
        }
      ],
      "source": [
        "from google.colab import drive\n",
        "drive.mount('/gdrive')\n",
        "%cd /gdrive"
      ]
    },
    {
      "cell_type": "markdown",
      "source": [
        "Mounting Google drive is essential as we are going to import the datasets from the drive. The file stays permanently."
      ],
      "metadata": {
        "id": "r1sAtZ4zj_md"
      }
    },
    {
      "cell_type": "code",
      "source": [
        "%cd /gdrive/My Drive/Colab Notebooks/Netflix Recommendation System"
      ],
      "metadata": {
        "colab": {
          "base_uri": "https://localhost:8080/"
        },
        "id": "cECGN9BJfJpH",
        "outputId": "16b75054-d476-4206-95e3-f4f5d5e96246"
      },
      "execution_count": null,
      "outputs": [
        {
          "output_type": "stream",
          "name": "stdout",
          "text": [
            "/gdrive/My Drive/Colab Notebooks/Netflix Recommendation System\n"
          ]
        }
      ]
    },
    {
      "cell_type": "markdown",
      "source": [
        "The current directory is set to the netflix recommendation system folder where the notebook and the datasets are present"
      ],
      "metadata": {
        "id": "UzTLBriFkPQK"
      }
    },
    {
      "cell_type": "code",
      "execution_count": null,
      "metadata": {
        "colab": {
          "base_uri": "https://localhost:8080/"
        },
        "id": "hpKJtVsdun7_",
        "outputId": "affe6e45-7d99-42c1-c150-bd6497f5ec3d"
      },
      "outputs": [
        {
          "output_type": "stream",
          "name": "stdout",
          "text": [
            "                                Show Id                          Title  \\\n",
            "0  cc1b6ed9-cf9e-4057-8303-34577fb54477                       (Un)Well   \n",
            "1  e2ef4e91-fb25-42ab-b485-be8e3b23dedb                         #Alive   \n",
            "2  b01b73b7-81f6-47a7-86d8-acb63080d525  #AnneFrank - Parallel Stories   \n",
            "3  b6611af0-f53c-4a08-9ffa-9716dc57eb9c                       #blackAF   \n",
            "4  7f2d4170-bab8-4d75-adc2-197f7124c070               #cats_the_mewvie   \n",
            "\n",
            "                                         Description  \\\n",
            "0  This docuseries takes a deep dive into the luc...   \n",
            "1  As a grisly virus rampages a city, a lone man ...   \n",
            "2  Through her diary, Anne Frank's story is retol...   \n",
            "3  Kenya Barris and his family navigate relations...   \n",
            "4  This pawesome documentary explores how our fel...   \n",
            "\n",
            "                      Director  \\\n",
            "0                          NaN   \n",
            "1                       Cho Il   \n",
            "2  Sabina Fedeli, Anna Migotto   \n",
            "3                          NaN   \n",
            "4             Michael Margolis   \n",
            "\n",
            "                                           Genres  \\\n",
            "0                                      Reality TV   \n",
            "1  Horror Movies, International Movies, Thrillers   \n",
            "2             Documentaries, International Movies   \n",
            "3                                     TV Comedies   \n",
            "4             Documentaries, International Movies   \n",
            "\n",
            "                                                Cast Production Country  \\\n",
            "0                                                NaN      United States   \n",
            "1                           Yoo Ah-in, Park Shin-hye        South Korea   \n",
            "2                        Helen Mirren, Gengher Gatti              Italy   \n",
            "3  Kenya Barris, Rashida Jones, Iman Benson, Genn...      United States   \n",
            "4                                                NaN             Canada   \n",
            "\n",
            "   Release Date Rating  Duration Imdb Score Content Type         Date Added  \n",
            "0        2020.0  TV-MA  1 Season     6.6/10      TV Show                NaN  \n",
            "1        2020.0  TV-MA    99 min     6.2/10        Movie  September 8, 2020  \n",
            "2        2019.0  TV-14    95 min     6.4/10        Movie       July 1, 2020  \n",
            "3        2020.0  TV-MA  1 Season     6.6/10      TV Show                NaN  \n",
            "4        2020.0  TV-14    90 min     5.1/10        Movie   February 5, 2020  \n"
          ]
        }
      ],
      "source": [
        "import numpy as np\n",
        "import pandas as pd\n",
        "from sklearn.feature_extraction import text\n",
        "from sklearn.metrics.pairwise import cosine_similarity\n",
        "\n",
        "data=pd.read_csv(\"netflixData.csv\")\n",
        "print(data.head())"
      ]
    },
    {
      "cell_type": "markdown",
      "source": [
        "modules and data have been imported for the system above."
      ],
      "metadata": {
        "id": "fGXZP0mBoZi1"
      }
    },
    {
      "cell_type": "markdown",
      "source": [
        "Since the netflix recommendation learns the genre and type of the watch history so we need only some of the attributes. Let us select the attributes needed and not all of it."
      ],
      "metadata": {
        "id": "Kgxeqt_6qYhv"
      }
    },
    {
      "cell_type": "code",
      "source": [
        "data=data[[\"Title\",\"Description\",\"Content Type\",\"Genres\"]]\n",
        "print(data.head())"
      ],
      "metadata": {
        "colab": {
          "base_uri": "https://localhost:8080/"
        },
        "id": "RmLk_GQFq2KP",
        "outputId": "c4e4fb3c-4070-4b0f-978b-cdaeae37501d"
      },
      "execution_count": null,
      "outputs": [
        {
          "output_type": "stream",
          "name": "stdout",
          "text": [
            "                           Title  \\\n",
            "0                       (Un)Well   \n",
            "1                         #Alive   \n",
            "2  #AnneFrank - Parallel Stories   \n",
            "3                       #blackAF   \n",
            "4               #cats_the_mewvie   \n",
            "\n",
            "                                         Description Content Type  \\\n",
            "0  This docuseries takes a deep dive into the luc...      TV Show   \n",
            "1  As a grisly virus rampages a city, a lone man ...        Movie   \n",
            "2  Through her diary, Anne Frank's story is retol...        Movie   \n",
            "3  Kenya Barris and his family navigate relations...      TV Show   \n",
            "4  This pawesome documentary explores how our fel...        Movie   \n",
            "\n",
            "                                           Genres  \n",
            "0                                      Reality TV  \n",
            "1  Horror Movies, International Movies, Thrillers  \n",
            "2             Documentaries, International Movies  \n",
            "3                                     TV Comedies  \n",
            "4             Documentaries, International Movies  \n"
          ]
        }
      ]
    },
    {
      "cell_type": "markdown",
      "source": [
        "Let us drop the rows with null values."
      ],
      "metadata": {
        "id": "qgxVlk12sdkT"
      }
    },
    {
      "cell_type": "code",
      "source": [
        "data= data.dropna()\n",
        "print(data.head())"
      ],
      "metadata": {
        "colab": {
          "base_uri": "https://localhost:8080/"
        },
        "id": "x_bbs6FNsoAW",
        "outputId": "fe54a88a-c997-44f2-daf9-01d6c69e7d8b"
      },
      "execution_count": null,
      "outputs": [
        {
          "output_type": "stream",
          "name": "stdout",
          "text": [
            "                       Title  \\\n",
            "0                      unwel   \n",
            "1                       aliv   \n",
            "2  annefrank  parallel stori   \n",
            "3                    blackaf   \n",
            "4               catsthemewvi   \n",
            "\n",
            "                                         Description Content Type  \\\n",
            "0  This docuseries takes a deep dive into the luc...      TV Show   \n",
            "1  As a grisly virus rampages a city, a lone man ...        Movie   \n",
            "2  Through her diary, Anne Frank's story is retol...        Movie   \n",
            "3  Kenya Barris and his family navigate relations...      TV Show   \n",
            "4  This pawesome documentary explores how our fel...        Movie   \n",
            "\n",
            "                                           Genres  \n",
            "0                                      Reality TV  \n",
            "1  Horror Movies, International Movies, Thrillers  \n",
            "2             Documentaries, International Movies  \n",
            "3                                     TV Comedies  \n",
            "4             Documentaries, International Movies  \n"
          ]
        }
      ]
    },
    {
      "cell_type": "markdown",
      "source": [
        "The title needs to be cleaned ,it has characters such as \"#\". This is an essential part of the data cleaning in data preprocessing."
      ],
      "metadata": {
        "id": "pAvyce91s4Hs"
      }
    },
    {
      "cell_type": "markdown",
      "source": [
        "We need to process the input using stopwords. The titles are normalized and then can be proceeded for the recommendation purpose."
      ],
      "metadata": {
        "id": "TexQeAhMlxaV"
      }
    },
    {
      "cell_type": "code",
      "source": [
        "import nltk\n",
        "import re\n",
        "import string\n",
        "\n",
        "nltk.download('stopwords')\n",
        "stemmer=nltk.SnowballStemmer(\"english\")\n",
        "from nltk.corpus import stopwords\n",
        "stopword=set(stopwords.words('english'))\n",
        "\n",
        "def clean(text):\n",
        "  text=str(text).lower()\n",
        "  text=re.sub('\\[.*?\\]','',text)\n",
        "  text=re.sub('https?://\\S+|www\\.\\S+', '', text)\n",
        "  text=re.sub('<.*?>', '', text)\n",
        "  text=re.sub('[%s]' % re.escape(string.punctuation),'',text)\n",
        "  text=re.sub('\\n','',text)\n",
        "  text=re.sub('\\w*\\d\\w*','',text)\n",
        "  text=[word for word in text.split(' ') if word not in stopword]\n",
        "  text=\" \".join(text)\n",
        "  text=[stemmer.stem(word) for word in text.split(' ')]\n",
        "  text=\" \".join(text)\n",
        "  return text\n",
        "data[\"Title\"]=data[\"Title\"].apply(clean)\n",
        "\n",
        "\n"
      ],
      "metadata": {
        "id": "1Gd-OZ-vtE-W",
        "colab": {
          "base_uri": "https://localhost:8080/"
        },
        "outputId": "91017d8e-8079-4ad4-f7e9-94bf15dc9cd1"
      },
      "execution_count": null,
      "outputs": [
        {
          "output_type": "stream",
          "name": "stderr",
          "text": [
            "[nltk_data] Downloading package stopwords to /root/nltk_data...\n",
            "[nltk_data]   Package stopwords is already up-to-date!\n"
          ]
        }
      ]
    },
    {
      "cell_type": "code",
      "source": [
        "print(data.Title.sample(30))\n",
        "print(data.Title[3655])"
      ],
      "metadata": {
        "colab": {
          "base_uri": "https://localhost:8080/"
        },
        "id": "CPQLTLluf-42",
        "outputId": "3a44d6e1-c107-49bb-962e-60cb515c8839"
      },
      "execution_count": null,
      "outputs": [
        {
          "output_type": "stream",
          "name": "stdout",
          "text": [
            "4922              investig british crime stori\n",
            "4077                              sandi wexler\n",
            "4120                    scott pilgrim vs world\n",
            "5175                               rugrat movi\n",
            "985                                  chopstick\n",
            "2289                                 iron ladi\n",
            "1061                                      coff\n",
            "596                              bella bulldog\n",
            "5246                                      tour\n",
            "1105                                 coupl day\n",
            "397                                   apaharan\n",
            "3352                     narcoworld dope stori\n",
            "3119                                   misaeng\n",
            "1422                                     eteam\n",
            "5470                                   traitor\n",
            "4357                                space forc\n",
            "2920                                    malang\n",
            "1944                                     hamid\n",
            "5837                                  wild oat\n",
            "4596                          winter wind blow\n",
            "600       ben platt live radio citi music hall\n",
            "5726                             way back love\n",
            "3318                                      wife\n",
            "2062                                     hilda\n",
            "1064                                 cold feet\n",
            "5074                                  neighbor\n",
            "2983    marvel super hero adventur frost fight\n",
            "5021                          magic school bus\n",
            "5458                          trailer park boy\n",
            "4458       sturgil simpson present sound  furi\n",
            "Name: Title, dtype: object\n",
            "peaki blinder\n"
          ]
        }
      ]
    },
    {
      "cell_type": "markdown",
      "source": [
        "Genres attribute will be used to recommend similar content and cosine similarity will be used (to find similarities in two documents)"
      ],
      "metadata": {
        "id": "Cp2lIv1cgMSr"
      }
    },
    {
      "cell_type": "code",
      "source": [
        "feature=data[\"Genres\"].tolist()\n",
        "tfidf = text.TfidfVectorizer(input=feature,stop_words=\"english\")\n",
        "tfidf_matrix=tfidf.fit_transform(feature)\n",
        "similarity= cosine_similarity(tfidf_matrix)"
      ],
      "metadata": {
        "id": "pizKsvQ2gk60"
      },
      "execution_count": null,
      "outputs": []
    },
    {
      "cell_type": "markdown",
      "source": [
        "let us set the title attribute as index, so we can find similar content by giving title as input."
      ],
      "metadata": {
        "id": "uuBe2GKZilo3"
      }
    },
    {
      "cell_type": "code",
      "source": [
        "indices= pd.Series(data.index, index=data['Title']).drop_duplicates()"
      ],
      "metadata": {
        "id": "S1LocY-WimVi"
      },
      "execution_count": null,
      "outputs": []
    },
    {
      "cell_type": "markdown",
      "source": [
        "Function to recommend movies and tv shows on netflix-"
      ],
      "metadata": {
        "id": "xpJz-07Hiy2j"
      }
    },
    {
      "cell_type": "markdown",
      "source": [
        "Since the titles are normalized, we need to give the normalized title input to the function, so it can work and recommend. Giving the actual movie name and tv show name might work sometimes, but if it's normalized it may not work.\n",
        "REMEMBER netflix recommendation system works in the backend and it will carry its operation on its own."
      ],
      "metadata": {
        "id": "8uCGPH1TmfyA"
      }
    },
    {
      "cell_type": "code",
      "source": [
        "def NetFlix_Recommendation(title,similarity=similarity):\n",
        "  index=indices[title]\n",
        "  similarity_scores=list(enumerate(similarity[index]))\n",
        "  similarity_scores=sorted(similarity_scores,key=lambda x:x[1],reverse=True)\n",
        "  similarity_scores=similarity_scores[0:10]\n",
        "  movie_indices=[i[0] for i in similarity_scores]\n",
        "  return data['Title'].iloc[movie_indices]\n",
        "\n",
        "print(NetFlix_Recommendation(\"arrow\"))"
      ],
      "metadata": {
        "colab": {
          "base_uri": "https://localhost:8080/"
        },
        "id": "lkvTuliri6D3",
        "outputId": "ed4f69e4-f941-446e-cf5d-d6004fd08e5d"
      },
      "execution_count": null,
      "outputs": [
        {
          "output_type": "stream",
          "name": "stdout",
          "text": [
            "418                   arrow\n",
            "2985       marvel daredevil\n",
            "308            alter carbon\n",
            "1880                 gotham\n",
            "2987       marvel iron fist\n",
            "2988    marvel jessica jone\n",
            "2989       marvel luke cage\n",
            "2990          marvel defend\n",
            "3350                  narco\n",
            "3351           narco mexico\n",
            "Name: Title, dtype: object\n"
          ]
        }
      ]
    }
  ]
}